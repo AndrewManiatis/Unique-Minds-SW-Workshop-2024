{
  "cells": [
    {
      "cell_type": "markdown",
      "source": [
        "# **Unique Minds Software Workshop 2024** - Σάββατο 20 Απριλίου 2024\n",
        "\n",
        "**Coordinators**\n",
        "\n",
        "| Όνομα                              | Εmail                   |\n",
        "| ----------------------------------- | ---------------------- |\n",
        "| Ανδρεάς Χρυσοβαλάντης-Κωνσταντίνος | *valantis2000@hotmail.com* |\n",
        "| Μανιάτης Ανδρέας | *maniatis.andreas@gmail.com* |\n",
        "| Παπανικολάου Ιωάννης              | *johnpapani1@gmail.com* |\n"
      ],
      "metadata": {
        "id": "ERN4gptQUcO4"
      },
      "id": "ERN4gptQUcO4"
    },
    {
      "cell_type": "markdown",
      "source": [
        "<img src=\"https://github.com/AndrewManiatis/Unique-Minds-SW-Workshop-2024/blob/main/pexels-brett-sayles.jpg?raw=true\" alt=\"Image Alt Text\">"
      ],
      "metadata": {
        "id": "ionpq-MoXBKG"
      },
      "id": "ionpq-MoXBKG"
    },
    {
      "cell_type": "markdown",
      "source": [
        "## Διαχείριση δεδομένων με Pandas\n",
        "\n",
        "Σε αυτό την υποενότητα θα δούμε:\n",
        "- Διάβασμα Αρχείου\n",
        "- Βασικές Εντολές\n",
        "- Πρόσβαση σε γραμμές\n",
        "- Πρόσβαση σε στήλες\n",
        "\n"
      ],
      "metadata": {
        "id": "_eY9u68FUzBB"
      },
      "id": "_eY9u68FUzBB"
    },
    {
      "cell_type": "code",
      "source": [
        "!pip install seaborn"
      ],
      "metadata": {
        "id": "qU4DvpQVBdhn"
      },
      "id": "qU4DvpQVBdhn",
      "execution_count": null,
      "outputs": []
    },
    {
      "cell_type": "code",
      "execution_count": null,
      "id": "92bbe2c2",
      "metadata": {
        "id": "92bbe2c2"
      },
      "outputs": [],
      "source": [
        "#Φόρτωση των κατάλληλων βιβλιοθηκών που περιέχουν διάφορες έτοιμες συναρτήσεις που θα χρησιμοποιήσουμε\n",
        "from google.colab import files\n",
        "import numpy as np\n",
        "import pandas as pd\n",
        "import seaborn as sb\n",
        "import matplotlib.pyplot as plt\n",
        "import matplotlib.image as mpimg\n",
        "from sklearn.model_selection import train_test_split\n",
        "from sklearn.linear_model import LogisticRegression\n",
        "from sklearn.metrics import accuracy_score\n",
        "from sklearn.metrics import f1_score\n",
        "from io import BytesIO\n",
        "from PIL import Image"
      ]
    },
    {
      "cell_type": "code",
      "source": [
        "# Φορτώνουμε το csv αρχείο με τα δεδομένα μας\n",
        "!wget -O ryanair_reviews.csv https://raw.githubusercontent.com/AndrewManiatis/Unique-Minds-SW-Workshop-2024/main/ryanair_reviews.csv"
      ],
      "metadata": {
        "id": "7dcAPyqqWW5a"
      },
      "id": "7dcAPyqqWW5a",
      "execution_count": null,
      "outputs": []
    },
    {
      "cell_type": "code",
      "execution_count": null,
      "id": "e552253f",
      "metadata": {
        "id": "e552253f"
      },
      "outputs": [],
      "source": [
        "# Load the CSV file into a DataFrame (αντικείμενο της βιβλιοθήκης Pandas)\n",
        "file_path = \"ryanair_reviews.csv\"\n",
        "\n",
        "df = pd.read_csv(file_path,index_col=0,parse_dates=True)"
      ]
    },
    {
      "cell_type": "code",
      "execution_count": null,
      "id": "10c9e0f7",
      "metadata": {
        "id": "10c9e0f7"
      },
      "outputs": [],
      "source": [
        "#Η μέθοδος head επιστρέφει τις x πρώτες γραμμές\n",
        "df.head(3)"
      ]
    },
    {
      "cell_type": "code",
      "execution_count": null,
      "id": "428eef56",
      "metadata": {
        "id": "428eef56"
      },
      "outputs": [],
      "source": [
        "# Μπορούμε επίσης να λάβουμε μερικά στατιστικά στοιχεία για τα περιεχόμενα κάθε στήλης με τη μέθοδο describe!\n",
        "df.describe()"
      ]
    },
    {
      "cell_type": "code",
      "source": [
        "#df.info()"
      ],
      "metadata": {
        "id": "J1l9UAnUDA5H"
      },
      "id": "J1l9UAnUDA5H",
      "execution_count": null,
      "outputs": []
    },
    {
      "cell_type": "code",
      "execution_count": null,
      "id": "2a20a132",
      "metadata": {
        "id": "2a20a132"
      },
      "outputs": [],
      "source": [
        "# Μετατρέπουμε τις στήλες με ημερομηνίες σε αντικείμενα ημερομηνιών.\n",
        "df['Date Published'] = pd.to_datetime(df['Date Published'])\n",
        "df['Date Flown'] = pd.to_datetime(df['Date Flown'])"
      ]
    },
    {
      "cell_type": "markdown",
      "id": "42be70a8",
      "metadata": {
        "id": "42be70a8"
      },
      "source": [
        "### Πρόσβαση σε γραμμές (rows)"
      ]
    },
    {
      "cell_type": "code",
      "execution_count": null,
      "id": "495b4e23",
      "metadata": {
        "id": "495b4e23"
      },
      "outputs": [],
      "source": [
        "#Χρησιμοποιώντας το label της γραμμής με το χαρακτηριστικό loc\n",
        "#https://pandas.pydata.org/docs/reference/api/pandas.DataFrame.loc.html\n",
        "#Προσοχή! Η αρίθμηση αρχίζει από το 0\n",
        "df.loc[0]"
      ]
    },
    {
      "cell_type": "code",
      "execution_count": null,
      "id": "bdd35a0e",
      "metadata": {
        "id": "bdd35a0e"
      },
      "outputs": [],
      "source": [
        "#Χρησιμοποιώντας τον αριθμό της γραμμής (βλέπε index) με το χαρακτηριστικό iloc\n",
        "#https://pandas.pydata.org/docs/reference/api/pandas.DataFrame.iloc.html#pandas.DataFrame.iloc\n",
        "df.iloc[0]"
      ]
    },
    {
      "cell_type": "markdown",
      "id": "1fb0a760",
      "metadata": {
        "id": "1fb0a760"
      },
      "source": [
        "Στην προκειμένη περίπτωση έχουμε το ίδιο ακριβώς αποτέλεσμα. <br/> **Αν αντίθετα είχαμε κατηγορικές τιμές (λέξεις) στο index μας θα έπρεπε να χειριστούμε το πρόβλημα διαφορετικά:**\n"
      ]
    },
    {
      "cell_type": "code",
      "execution_count": null,
      "id": "fb28e6db",
      "metadata": {
        "id": "fb28e6db"
      },
      "outputs": [],
      "source": [
        "df2 = pd.DataFrame([[1, 2], [4, 5], [7, 8]],\n",
        "                   index=['cobra', 'viper', 'sidewinder'],\n",
        "                   columns=['max_speed', 'shield'])\n",
        "df2"
      ]
    },
    {
      "cell_type": "markdown",
      "id": "ec46671e",
      "metadata": {
        "id": "ec46671e"
      },
      "source": [
        "Προσπαθήστε να μαντέψετε ποιο θα είναι το αποτέλεσμα σε κάθε μία από τις παρακάτω περιπτώσεις και έπειτα δοκιμάστε να τρέξετε κάθε μία αφαιρώντας το \"#\" (uncomment)."
      ]
    },
    {
      "cell_type": "code",
      "execution_count": null,
      "id": "137478c2",
      "metadata": {
        "id": "137478c2"
      },
      "outputs": [],
      "source": [
        "# df2.iloc[0]"
      ]
    },
    {
      "cell_type": "code",
      "execution_count": null,
      "id": "31b91fc1",
      "metadata": {
        "id": "31b91fc1"
      },
      "outputs": [],
      "source": [
        "# df2.loc['cobra']"
      ]
    },
    {
      "cell_type": "markdown",
      "id": "9cd952ec",
      "metadata": {
        "id": "9cd952ec"
      },
      "source": [
        "Για ταυτόχρονη πρόσβαση σε **περισσότερες από μία γραμμές** μπορούμε να χρησιμοποιήσουμε τις παρακάτω εντολές:"
      ]
    },
    {
      "cell_type": "code",
      "execution_count": null,
      "id": "94514c2e",
      "metadata": {
        "id": "94514c2e"
      },
      "outputs": [],
      "source": [
        "#slice\n",
        "df.iloc[2:5]"
      ]
    },
    {
      "cell_type": "markdown",
      "id": "593b9745",
      "metadata": {
        "id": "593b9745"
      },
      "source": [
        "Προσέξτε ότι στην παραπάνω περίπτωση δεν περιλάμβανεται η γραμμή με index = 5"
      ]
    },
    {
      "cell_type": "code",
      "execution_count": null,
      "id": "9cf243a3",
      "metadata": {
        "id": "9cf243a3"
      },
      "outputs": [],
      "source": [
        "#Χρήση λίστας με integers\n",
        "list_of_rows = [2,4,6]\n",
        "df.iloc[list_of_rows]"
      ]
    },
    {
      "cell_type": "markdown",
      "id": "644902e4",
      "metadata": {
        "id": "644902e4"
      },
      "source": [
        "### Πρόσβαση σε στήλες (columns)"
      ]
    },
    {
      "cell_type": "code",
      "execution_count": null,
      "id": "f4e67a0b",
      "metadata": {
        "id": "f4e67a0b"
      },
      "outputs": [],
      "source": [
        "df[\"Comment title\"]"
      ]
    },
    {
      "cell_type": "markdown",
      "id": "12ee2c67",
      "metadata": {
        "id": "12ee2c67"
      },
      "source": [
        "Πρόσβαση στη στήλη συγκεκριμένης γραμμής:"
      ]
    },
    {
      "cell_type": "code",
      "execution_count": null,
      "id": "6598f6c1",
      "metadata": {
        "id": "6598f6c1"
      },
      "outputs": [],
      "source": [
        "df.iloc[3][\"Comment title\"]"
      ]
    },
    {
      "cell_type": "markdown",
      "id": "4015def5",
      "metadata": {
        "id": "4015def5"
      },
      "source": [
        "Πρόσβαση σε **περισσότερες από μία στήλες**:"
      ]
    },
    {
      "cell_type": "code",
      "execution_count": null,
      "id": "3fc9c2dc",
      "metadata": {
        "id": "3fc9c2dc"
      },
      "outputs": [],
      "source": [
        "#Με slice\n",
        "df.iloc[:,0:3]\n",
        "#πρώτο όρισμα (πριν το κόμμα) γραμμές, δεύτερο όρισμα (μετά το κόμμα) στήλες\n",
        "#προσέξτε πώς όταν δεν ορίζουμε τα όρια του slice παίρνουμε πίσω όλες τις γραμμές (:)"
      ]
    },
    {
      "cell_type": "code",
      "execution_count": null,
      "id": "2fa02387",
      "metadata": {
        "id": "2fa02387"
      },
      "outputs": [],
      "source": [
        "#Με λίστα\n",
        "#...κάπως διαφορετικά\n",
        "list_of_columns = [\"Overall Rating\", \"Passenger Country\", \"Seat Type\"]\n",
        "df.iloc[1:3][list_of_columns]"
      ]
    },
    {
      "cell_type": "markdown",
      "id": "00657341",
      "metadata": {
        "id": "00657341"
      },
      "source": [
        "**Σημαντικό!** Μπορούμε επίσης να χρησιμοποιούμε **λογικές εκφράσεις** για να βρούμε τις κατάλληλες πληροφορίες."
      ]
    },
    {
      "cell_type": "markdown",
      "id": "96dc8cf1",
      "metadata": {
        "id": "96dc8cf1"
      },
      "source": [
        "Ας βρούμε όλες τις καταχωρήσεις όπου το \"Overall Rating\" ήταν πάνω από 5:"
      ]
    },
    {
      "cell_type": "code",
      "execution_count": null,
      "id": "2d9104c6",
      "metadata": {
        "id": "2d9104c6"
      },
      "outputs": [],
      "source": [
        "df[df[\"Overall Rating\"] > 5]"
      ]
    },
    {
      "cell_type": "markdown",
      "id": "a860b5d3",
      "metadata": {
        "id": "a860b5d3"
      },
      "source": [
        "Για πιο σύνθετα ζητούμενα με **πολλά conditions**, κλείνουμε το κάθε condition σε παρένθεση και χρησιμοποιούμε τα σύμβολα:\n",
        "- & : και\n",
        "- | : ή\n",
        "- ~ : όχι"
      ]
    },
    {
      "cell_type": "code",
      "execution_count": null,
      "id": "85922d0f",
      "metadata": {
        "id": "85922d0f"
      },
      "outputs": [],
      "source": [
        "df[(df[\"Overall Rating\"] > 5) & (df[\"Passenger Country\"] == \"United Kingdom\")]"
      ]
    },
    {
      "cell_type": "code",
      "source": [
        "#Βρίσκουμε όλες τις δυνατές τιμές μιας κατηγορίας (στήλης)\n",
        "#π.χ.\n",
        "df['Origin'].unique()\n",
        "#Τι προβλήματα παρατηρείτε στα δεδομένα;\n",
        "#hint Ctrl+F ->type London"
      ],
      "metadata": {
        "id": "AbcsXTmFrs9k"
      },
      "id": "AbcsXTmFrs9k",
      "execution_count": null,
      "outputs": []
    },
    {
      "cell_type": "markdown",
      "source": [
        "Αναδεικνύεται η ανάγκη λοιπόν **καθαρισμού των δεδομένων (data cleaning)**, ένα απαραίτητο βήμα κάθε έργου που φιλοδοξεί να αναλύσει και να εξάγει συμπεράσματα από τα δεδομένα.\n",
        "\n",
        "\n",
        "> Ο **καθαρισμός δεδομένων** είναι η διαδικασία διόρθωσης ή αφαίρεσης εσφαλμένων, αλλοιωμένων, εσφαλμένα μορφοποιημένων, διπλών ή ελλιπών δεδομένων σε ένα σύνολο δεδομένων. Όταν συνδυάζονται πολλαπλές πηγές δεδομένων, υπάρχουν πολλές ευκαιρίες για δεδομένα που είναι διπλά ή εσφαλμένως επισημασμένα. Εάν τα δεδομένα είναι εσφαλμένα, τα αποτελέσματα και οι αλγόριθμοι είναι αναξιόπιστα, ακόμη και αν φαίνονται σωστά. Δεν υπάρχει ένας απόλυτος τρόπος για να προδιαγράψει κανείς τα ακριβή βήματα στη διαδικασία καθαρισμού δεδομένων, επειδή οι διαδικασίες διαφέρουν από σύνολο δεδομένων σε σύνολο δεδομένων.\n",
        "\n",
        "Πηγή:https://www.tableau.com/learn/articles/what-is-data-cleaning#definition\n"
      ],
      "metadata": {
        "id": "joWgWEJStX3E"
      },
      "id": "joWgWEJStX3E"
    },
    {
      "cell_type": "markdown",
      "id": "78c4e5ee",
      "metadata": {
        "id": "78c4e5ee"
      },
      "source": [
        "\n",
        "\n",
        "\n",
        "\n",
        "---\n",
        "\n",
        "*Ερωτήσεις*\n",
        "\n",
        "\n",
        "---\n",
        "\n"
      ]
    },
    {
      "cell_type": "markdown",
      "source": [
        "## Προεπεξεργασία και εξερεύνηση δεδομένων"
      ],
      "metadata": {
        "id": "oTK7gxCArOK2"
      },
      "id": "oTK7gxCArOK2"
    },
    {
      "cell_type": "markdown",
      "source": [
        "### Ελλιπείς τιμές\n",
        "\n",
        "Απαραίτητη διαδικασία σε κάθε dataset.<br/>\n",
        "\n",
        "- Ελέγχουμε για ελλιπείς τιμές *(μηδενικά/ NaN)*\n",
        "- Καθαρίζουμε τα δεδομένα αποβάλλοντας γραμμές με ελλιπείς τιμές."
      ],
      "metadata": {
        "id": "oRrFxJPPmVHK"
      },
      "id": "oRrFxJPPmVHK"
    },
    {
      "cell_type": "code",
      "source": [
        "# Check for missing values\n",
        "missing_values = df.isnull().sum()\n",
        "print(\"Missing values in each column:\")\n",
        "print(missing_values)"
      ],
      "metadata": {
        "id": "a-4W2u1PmUq9"
      },
      "id": "a-4W2u1PmUq9",
      "execution_count": null,
      "outputs": []
    },
    {
      "cell_type": "code",
      "source": [
        "# Αφαιρούμε στήλες που δεν θα χρησιμοποιήσουμε στην ταξινόμηση\n",
        "\n",
        "df_cleaned = df.drop(columns=['Trip_verified', 'Date Published', 'Date Flown','Comment', 'Comment title',\n",
        "                              'Aircraft', 'Type Of Traveller',\n",
        "                              'Inflight Entertainment', 'Wifi & Connectivity',\n",
        "                              'Origin', 'Destination']\n",
        "                     )"
      ],
      "metadata": {
        "id": "9q4mjCe8ESZu"
      },
      "id": "9q4mjCe8ESZu",
      "execution_count": null,
      "outputs": []
    },
    {
      "cell_type": "code",
      "source": [
        "# Αντικαθιστούμε τις απουσιάζουσες τιμές με την πιο συχνή τιμή της εκάστοτε στήλης\n",
        "# Συνήθης πρακτική για την διαχείρηση NaN values\n",
        "\n",
        "for column in ['Seat Comfort', 'Cabin Staff Service', 'Food & Beverages', 'Ground Service', 'Value For Money']:\n",
        "  mode_value = df_cleaned[column].mode()[0]\n",
        "  df_cleaned[column].fillna(mode_value, inplace=True)"
      ],
      "metadata": {
        "id": "jy5AqqAjJIXW"
      },
      "id": "jy5AqqAjJIXW",
      "execution_count": null,
      "outputs": []
    },
    {
      "cell_type": "markdown",
      "source": [
        "### Κατηγορικά δεδομένα\n",
        "\n",
        "Οι αλγόριθμοι πρόβλεψης χρησιμοποιούν στατιστικά μοντέλα για την πρόβλεψη τιμών. Ως εκ τούτου δεδομένα τα οποία δεν αποτελούνται από αριθμητικές τιμές και ονομάζονται κατηγορικά, αλλά ακόμα μπορούν να μας χρησιμεύσουν στην πρόβλεψη χρειάζονται μια διαφορετική προσέγγιση. Παρακάτω, βλέπουμε τις δύο στήλες που αποτελούνται από κατηγορικά δεδομένα και τις διαφορετικές τιμές που μπορούν να λάβουν."
      ],
      "metadata": {
        "id": "8m_gZU9U1bxC"
      },
      "id": "8m_gZU9U1bxC"
    },
    {
      "cell_type": "code",
      "source": [
        "print(df_cleaned['Seat Type'].unique(),\"\\n\")\n",
        "print(df_cleaned['Passenger Country'].unique())"
      ],
      "metadata": {
        "id": "zKc5nUPe1YSm"
      },
      "id": "zKc5nUPe1YSm",
      "execution_count": null,
      "outputs": []
    },
    {
      "cell_type": "markdown",
      "source": [
        "Μια τεχνική για να διαχειριστούμε λοιπόν τα κατηγορικά δεδομένα και την οποία θα χρησιμοποιήσουμε παρακάτω ονομάζεται **Label Encoding**. Συνίσταται από την αντιστοίχιση κάθε κατηγορικής τιμής σε μια αριθμητική (κωδικοποίηση). Μια άλλη τεχνική που μπορείτε να αναζητήσετε ονομάζετε One-Hot Encoding."
      ],
      "metadata": {
        "id": "-ssQWM3M7fMm"
      },
      "id": "-ssQWM3M7fMm"
    },
    {
      "cell_type": "code",
      "source": [
        "## class mapping\n",
        "\n",
        "df_enc = df_cleaned.copy(deep=True)\n",
        "\n",
        "# βρίσκουμε τις μοναδικές ετικέτες\n",
        "class_mapping = {st:idx for idx,st in enumerate(np.unique(df_enc['Seat Type']))}\n",
        "print(class_mapping,'\\n')\n",
        "\n",
        "# και κάνουμε την μετατροπή\n",
        "df_enc['Seat Type'] = df_enc['Seat Type'].map(class_mapping)\n",
        "\n",
        "class_mapping = {pc:idx for idx,pc in enumerate(np.unique(df_enc['Passenger Country']))}\n",
        "\n",
        "#αντιστοίχιση\n",
        "print(class_mapping,'\\n')\n",
        "\n",
        "df_enc['Passenger Country'] = df_enc['Passenger Country'].map(class_mapping)\n",
        "\n",
        "class_mapping = {rec:idx for idx,rec in enumerate(np.unique(df_enc['Recommended']))}\n",
        "\n",
        "#αντιστοίχιση\n",
        "print(class_mapping)\n",
        "\n",
        "df_enc['Recommended'] = df_enc['Recommended'].map(class_mapping)"
      ],
      "metadata": {
        "id": "vSMiJ2y-Onr_"
      },
      "id": "vSMiJ2y-Onr_",
      "execution_count": null,
      "outputs": []
    },
    {
      "cell_type": "markdown",
      "source": [
        "Λόγω του ότι θα χρησιμοποιήσουμε την κατηγορία Overall Rating στη συνέχεια για να κάνουμε προβλέψεις οι γραμμές χωρίς τιμή δεν μας είναι χρήσιμες. Έτσι, δεν έχει νοήμα να συμπληρώσουμε αυθαίρετες τιμές όποτε και διαγράφουμε τις συγκεκριμένες γραμμές."
      ],
      "metadata": {
        "id": "09SSSaKmJ78D"
      },
      "id": "09SSSaKmJ78D"
    },
    {
      "cell_type": "code",
      "source": [
        "df_enc.dropna(subset=['Overall Rating'],inplace=True)"
      ],
      "metadata": {
        "id": "g1X5JVRDJzDH"
      },
      "id": "g1X5JVRDJzDH",
      "execution_count": null,
      "outputs": []
    },
    {
      "cell_type": "code",
      "source": [
        "missing_values = df_enc.isnull().sum()\n",
        "print(\"Missing values in each column:\")\n",
        "print(missing_values)"
      ],
      "metadata": {
        "id": "mBTtsoP6Gqb9"
      },
      "id": "mBTtsoP6Gqb9",
      "execution_count": null,
      "outputs": []
    },
    {
      "cell_type": "markdown",
      "source": [
        "**Ερώτηση:** Βρείτε πόσοι πελάτες προτείνουν την εταιρία και πόσοι όχι. Μπορείτε να ανατρέξετε στα αρχικά κεφάλαια."
      ],
      "metadata": {
        "id": "IdfVzzaA8cJh"
      },
      "id": "IdfVzzaA8cJh"
    },
    {
      "cell_type": "code",
      "source": [
        "#συμπληρώστε εδώ..."
      ],
      "metadata": {
        "id": "8lFn4IOq8b0D"
      },
      "id": "8lFn4IOq8b0D",
      "execution_count": null,
      "outputs": []
    },
    {
      "cell_type": "code",
      "source": [
        "#ή εναλλακτικά: df_enc['Recommended'].value_counts()"
      ],
      "metadata": {
        "id": "oQhHhc16Oyao"
      },
      "id": "oQhHhc16Oyao",
      "execution_count": null,
      "outputs": []
    },
    {
      "cell_type": "markdown",
      "id": "e5f98a0b",
      "metadata": {
        "id": "e5f98a0b"
      },
      "source": [
        "### Στατιστικές συσχετίσεις μεταξύ στηλών\n",
        "Η **εξάρτηση δύο μεταβλητών (correlation)** φανερώνει μια στατιστική σχέση μεταξύ τους. Δηλαδή το πώς μπορεί να επηρεαστεί η τιμή της μίας από την άλλη (συχνότερα εννούμε μια γραμμική σχέση). Οι συσχετισμοί αυτοί είναι χρήσιμοι, καθώς μπορούν να υποδείξουν μια προγνωστική σχέση που μπορεί να εφαρμοστεί στην πράξη (παραγωγή προβλέψεων). Στο παρακάτω κελί βλέπουμε πώς με τις κατάλληλες εντολές μπορούμε να δούμε εποπτικά τις εξαρτήσεις όλων των πιθανών συνδυασμών μεταβλητών.\n",
        "\n"
      ]
    },
    {
      "cell_type": "code",
      "execution_count": null,
      "id": "01be70c9",
      "metadata": {
        "id": "01be70c9"
      },
      "outputs": [],
      "source": [
        "corr = df.corr()\n",
        "plt.figure(figsize=(10, 8))\n",
        "sb.heatmap(corr, cmap=\"Blues\", annot=True)"
      ]
    },
    {
      "cell_type": "markdown",
      "source": [
        "### Κορυφαιοι προορισμοί"
      ],
      "metadata": {
        "id": "JcmOBm-ei7jA"
      },
      "id": "JcmOBm-ei7jA"
    },
    {
      "cell_type": "markdown",
      "source": [
        " #### Από Αθήνα"
      ],
      "metadata": {
        "id": "wnK2uckfmOW6"
      },
      "id": "wnK2uckfmOW6"
    },
    {
      "cell_type": "code",
      "source": [
        "athens_destinations = df[df['Origin'] == 'Athens']\n",
        "\n",
        "destination_counts_from_athens = athens_destinations['Destination'].value_counts()\n",
        "\n",
        "#Επιλέξτε τους πρώτους 5 μόνο προορισμούς συμπληρώνοντας κάτι στο τέλος της παρακάτω εντολής και αφαιρώντας το #\n",
        "\n",
        "#top_5_destinations_from_athens = destination_counts_from_athens\n",
        "\n",
        "print(\"Top 5 Προορισμοί από Athens:\")\n",
        "print(top_5_destinations_from_athens)\n"
      ],
      "metadata": {
        "id": "QN_HFQJOgvCD"
      },
      "id": "QN_HFQJOgvCD",
      "execution_count": null,
      "outputs": []
    },
    {
      "cell_type": "markdown",
      "source": [
        "#### Δική σου αφετηρία\n",
        "Παραπάνω, βλέπουμε τους τοπ 5 προορισμούς απο την Αθήνα.<br/>\n",
        "Πάμε να δούμε για άλλη πόλη. <br/>\n",
        "*Συμπληρώσε στο **your_origin** -μόνο στην πρώτη γραμμή- μία δική σου πόλη. (Δοκίμασε Budapest, Dublin ή Luton)*"
      ],
      "metadata": {
        "id": "Zlj905XGhFjg"
      },
      "id": "Zlj905XGhFjg"
    },
    {
      "cell_type": "code",
      "source": [
        "your_origin = \"Budapest\"\n",
        "destinations = df[df['Origin'] == your_origin]\n",
        "\n",
        "destination_counts_from_your_origin = destinations['Destination'].value_counts()\n",
        "\n",
        "#Συμπληρώστε με τον ίδιο τρόπο\n",
        "\n",
        "#top_5_destinations_from_your_origin = destination_counts_from_your_origin\n",
        "\n",
        "print(f\"Top 5 Προορισμοί από {your_origin}:\")\n",
        "print(top_5_destinations_from_your_origin)\n"
      ],
      "metadata": {
        "id": "BPKe0_QjhF3m"
      },
      "id": "BPKe0_QjhF3m",
      "execution_count": null,
      "outputs": []
    },
    {
      "cell_type": "markdown",
      "source": [
        "### Οπτικοποίηση\n",
        "\n",
        "Σημαντικό κομμάτι κάθε εργασίας ανάλυσης. Μερικά παραδείγματα:"
      ],
      "metadata": {
        "id": "dfcG-k-iLqLN"
      },
      "id": "dfcG-k-iLqLN"
    },
    {
      "cell_type": "code",
      "source": [
        "df_enc['Overall Rating'].plot(kind='hist',bins=20, title='Συνολική Βαθμολογία')\n",
        "plt.gca().spines[['top', 'right',]].set_visible(False)"
      ],
      "metadata": {
        "id": "Ud_FjvtqMBh-"
      },
      "id": "Ud_FjvtqMBh-",
      "execution_count": null,
      "outputs": []
    },
    {
      "cell_type": "code",
      "source": [
        "# Plot the pie chart\n",
        "plt.figure(figsize=(8, 8))\n",
        "plt.pie(top_5_destinations_from_athens, labels=top_5_destinations_from_athens.index, autopct='%1.0f%%')\n",
        "plt.title('Οι 5 Κορυφαίοι προορισμοί με αφετηρία την Αθήνα')\n",
        "plt.axis('equal')  # Equal aspect ratio ensures that pie is drawn as a circle.\n",
        "plt.show()"
      ],
      "metadata": {
        "id": "JAvzzEVYL4KU"
      },
      "id": "JAvzzEVYL4KU",
      "execution_count": null,
      "outputs": []
    },
    {
      "cell_type": "code",
      "execution_count": null,
      "id": "fcc53920",
      "metadata": {
        "id": "fcc53920"
      },
      "outputs": [],
      "source": [
        "plt.figure(figsize=(10, 6))\n",
        "sb.barplot(x='Seat Type', y='Overall Rating', data=df, palette='viridis')\n",
        "plt.title('Overall Rating vs Seat Type')\n",
        "plt.xlabel('Seat Type')\n",
        "plt.ylabel('Average Overall Rating')\n",
        "plt.show()"
      ]
    },
    {
      "cell_type": "markdown",
      "source": [
        "### Κορυφαίες λεξεις στα σχόλια"
      ],
      "metadata": {
        "id": "9Io0GaNWCRpR"
      },
      "id": "9Io0GaNWCRpR"
    },
    {
      "cell_type": "code",
      "source": [
        "import pandas as pd\n",
        "from nltk.tokenize import word_tokenize\n",
        "from nltk.corpus import stopwords\n",
        "from collections import Counter\n",
        "import nltk\n",
        "from tabulate import tabulate\n",
        "nltk.download('punkt')\n",
        "nltk.download('stopwords')\n"
      ],
      "metadata": {
        "id": "0EfmjlWECnE6"
      },
      "id": "0EfmjlWECnE6",
      "execution_count": null,
      "outputs": []
    },
    {
      "cell_type": "code",
      "source": [
        "# Concatenate all comments into a single string\n",
        "all_comments = ' '.join(df['Comment'].dropna())\n",
        "\n",
        "# Tokenize the comments\n",
        "tokens = word_tokenize(all_comments)\n",
        "\n",
        "# Remove stop words\n",
        "stop_words = set(stopwords.words('english'))\n",
        "additional_stop_words = [\"would\", 'us']\n",
        "stop_words.update(additional_stop_words)  # Append additional stop words\n",
        "filtered_tokens = [word.lower() for word in tokens if word.isalnum() and word.lower() not in stop_words]\n",
        "\n",
        "# Calculate word frequency\n",
        "word_freq = Counter(filtered_tokens)\n",
        "\n",
        "# Get the top 10 most frequent words\n",
        "top_keywords = word_freq.most_common(10)\n",
        "\n",
        "# Print the top keywords in a table\n",
        "print(tabulate(top_keywords, headers=['Keyword', 'Frequency'], tablefmt='grid'))\n"
      ],
      "metadata": {
        "id": "kPnJzB1FCRgk"
      },
      "id": "kPnJzB1FCRgk",
      "execution_count": null,
      "outputs": []
    },
    {
      "cell_type": "markdown",
      "source": [
        "Σε τι θα μπορόυσαν να μας χρησιμεύσουν τα παραπάνω στοιχεία;"
      ],
      "metadata": {
        "id": "Ts9psvetLd_J"
      },
      "id": "Ts9psvetLd_J"
    },
    {
      "cell_type": "markdown",
      "source": [
        "## Κάνοντας προβλέψεις με τα δεδομένα"
      ],
      "metadata": {
        "id": "hoz5Nfqn-7xJ"
      },
      "id": "hoz5Nfqn-7xJ"
    },
    {
      "cell_type": "markdown",
      "source": [
        "### Ταξινόμηση\n",
        "έχουμε όταν θέλουμε να προβλέψουμε σε ποια κατηγορία ανήκει ένα δείγμα.\n",
        "\n",
        "Μπορούμε να εφαρμόσουμε την ίδια μέθοδο για δύο κατηγορίες (\"Προείνουν την αεροπορική: Ναι ή Όχι\") ή και περισσότερες (Overall Rating). Παρακάτω χρησιμοποιούμε τον αλγόριθμο **Logistic Regression** για να παράξουμε προβλέψεις υπολογίζουμε το accuracy, δηλαδή τον αριθμό των σωστών ταξινομήσεων προς το συνολικό αριθμό προβλέψεων που έγιναν."
      ],
      "metadata": {
        "id": "UWTHIRxlEaG9"
      },
      "id": "UWTHIRxlEaG9"
    },
    {
      "cell_type": "code",
      "source": [
        "X = df_enc.drop(['Recommended'], axis=1)  # Features (excluding target)\n",
        "y = df_enc['Recommended']  # Target variable\n",
        "\n",
        "# Splitting the data into training and testing sets (80% train, 20% test)\n",
        "X_train, X_test, y_train, y_test = train_test_split(X, y, test_size=0.2, random_state=42)\n",
        "\n",
        "# Initializing and fitting the logistic regression model\n",
        "logreg = LogisticRegression(class_weight={0: 1, 1: 2.009}, max_iter=1000)\n",
        "logreg.fit(X_train, y_train)\n",
        "\n",
        "# Predicting on the test set\n",
        "y_pred = logreg.predict(X_test)\n",
        "\n",
        "# Calculating accuracy\n",
        "accuracy = accuracy_score(y_test, y_pred)\n",
        "print(\"Accuracy:\", accuracy)\n"
      ],
      "metadata": {
        "id": "hetg--kF_lQm"
      },
      "id": "hetg--kF_lQm",
      "execution_count": null,
      "outputs": []
    },
    {
      "cell_type": "code",
      "source": [
        "X = df_enc.drop(['Overall Rating'], axis=1)  # Features (excluding target)\n",
        "y = df_enc['Overall Rating']  # Target variable\n",
        "\n",
        "# Splitting the data into training and testing sets (80% train, 20% test)\n",
        "X_train, X_test, y_train, y_test = train_test_split(X, y, test_size=0.2, random_state=42)\n",
        "\n",
        "# Initializing and fitting the logistic regression model\n",
        "logreg = LogisticRegression(max_iter=1000)\n",
        "logreg.fit(X_train, y_train)\n",
        "\n",
        "# Predicting on the test set\n",
        "y_pred = logreg.predict(X_test)\n",
        "\n",
        "# Calculating accuracy\n",
        "accuracy = accuracy_score(y_test, y_pred)\n",
        "print(\"Accuracy:\", accuracy)\n"
      ],
      "metadata": {
        "id": "1AulDVkz_l87"
      },
      "id": "1AulDVkz_l87",
      "execution_count": null,
      "outputs": []
    },
    {
      "cell_type": "markdown",
      "source": [
        "### Bonus ερώτημα\n",
        "\n",
        "Χρησιμοποιώντας τον πίνακα correlation αφαιρέστε από τα χαρακτηριστικά εισόδου (X) πρώτα μια μεταβλητή που έχει μεγάλο correlation με την μεταβλητή πρόβλεψης y (στην περίπτωση \"Reccomended\") και έπειτα μια με μικρό. Παρατηρείστε πώς μεταβάλλεται το accuracy. Γιατί συμβαίνει αυτό;"
      ],
      "metadata": {
        "id": "EWgTbl8yNXP8"
      },
      "id": "EWgTbl8yNXP8"
    },
    {
      "cell_type": "code",
      "source": [],
      "metadata": {
        "id": "SN6ZczvDNWfl"
      },
      "id": "SN6ZczvDNWfl",
      "execution_count": null,
      "outputs": []
    },
    {
      "cell_type": "markdown",
      "source": [
        "# Ευχαριστούμε για την προσοχή σας ⚠\n",
        "\n",
        "**Ερωτήσεις!**"
      ],
      "metadata": {
        "id": "ShTmisJxpfoh"
      },
      "id": "ShTmisJxpfoh"
    },
    {
      "cell_type": "code",
      "source": [],
      "metadata": {
        "id": "ir7Ia007qhGZ"
      },
      "id": "ir7Ia007qhGZ",
      "execution_count": null,
      "outputs": []
    }
  ],
  "metadata": {
    "kernelspec": {
      "display_name": "Python 3",
      "name": "python3"
    },
    "language_info": {
      "codemirror_mode": {
        "name": "ipython",
        "version": 3
      },
      "file_extension": ".py",
      "mimetype": "text/x-python",
      "name": "python",
      "nbconvert_exporter": "python",
      "pygments_lexer": "ipython3",
      "version": "3.9.7"
    },
    "colab": {
      "provenance": [],
      "collapsed_sections": [
        "42be70a8",
        "644902e4",
        "e5f98a0b",
        "DhpTxFXfC3zW"
      ]
    }
  },
  "nbformat": 4,
  "nbformat_minor": 5
}